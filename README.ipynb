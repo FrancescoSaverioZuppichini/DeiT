{
 "cells": [
  {
   "cell_type": "markdown",
   "metadata": {},
   "source": [
    "# DeiT: Data-efficient Image Transformers\n",
    "**Transformers go brum brum**\n",
    "\n",
    "Hi guys! Today we are going to implement [Training data-efficient image transformers & distillation through attention](https://arxiv.org/abs/2012.12877) a new method to perform knoledge distiallion on Vision Transformers called DeiT.\n",
    "\n",
    "You will soon see how elegant and simple this new approach is.\n",
    "\n",
    "\n",
    "Code is [here](https://github.com/FrancescoSaverioZuppichini/DeiT), an interactive version of this article can be downloaded from [here[(https://github.com/FrancescoSaverioZuppichini/DeiT/blob/main/README.ipynb).\n",
    "\n",
    "DeiT is available on my new computer vision library called [glasses](https://github.com/FrancescoSaverioZuppichini/glasses)\n",
    "\n",
    "Before starting I **highly** reccomand to first have a look at [Vision Transformers](https://towardsdatascience.com/implementing-visualttransformer-in-pytorch-184f9f16f632)\n",
    "\n",
    "## Attention Distillation\n",
    "\n",
    "So, let's first have a look at the performance\n",
    "\n",
    "![alt](DeiTTable)"
   ]
  },
  {
   "cell_type": "code",
   "execution_count": null,
   "metadata": {},
   "outputs": [],
   "source": []
  }
 ],
 "metadata": {
  "kernelspec": {
   "display_name": "Python 3",
   "language": "python",
   "name": "python3"
  },
  "language_info": {
   "codemirror_mode": {
    "name": "ipython",
    "version": 3
   },
   "file_extension": ".py",
   "mimetype": "text/x-python",
   "name": "python",
   "nbconvert_exporter": "python",
   "pygments_lexer": "ipython3",
   "version": "3.8.2"
  }
 },
 "nbformat": 4,
 "nbformat_minor": 4
}
